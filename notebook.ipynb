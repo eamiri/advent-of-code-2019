{
 "metadata": {
  "language_info": {
   "codemirror_mode": {
    "name": "ipython",
    "version": 3
   },
   "file_extension": ".py",
   "mimetype": "text/x-python",
   "name": "python",
   "nbconvert_exporter": "python",
   "pygments_lexer": "ipython3",
   "version": "3.8.3-final"
  },
  "orig_nbformat": 2,
  "kernelspec": {
   "name": "Python 3.8.3 64-bit",
   "display_name": "Python 3.8.3 64-bit",
   "metadata": {
    "interpreter": {
     "hash": "bbca80127feb0f6a4bd0013dd6f89949424cc5c7b5573ad1a22aa295fdc13430"
    }
   }
  }
 },
 "nbformat": 4,
 "nbformat_minor": 2,
 "cells": [
  {
   "cell_type": "code",
   "execution_count": 1,
   "metadata": {},
   "outputs": [
    {
     "output_type": "stream",
     "name": "stdout",
     "text": [
      "Total fuel required for all of the modules on my spacecraft is 3331849.0 liters.\n"
     ]
    }
   ],
   "source": [
    "# Advent of Code - Day 1 Part 1\n",
    "import math\n",
    "\n",
    "with open('input1.dat', 'r') as massesFile:\n",
    "    massesStr = massesFile.read().splitlines()\n",
    "    massesFile.close()\n",
    "    fuel = 0.0\n",
    "    for massStr in massesStr:\n",
    "        fuelTemp = math.floor(float(massStr) / 3) - 2\n",
    "        if fuelTemp > 0:\n",
    "            fuel += fuelTemp\n",
    "    \n",
    "    print(f'Total fuel required for all of the modules on my spacecraft is {fuel} liters.')"
   ]
  },
  {
   "cell_type": "code",
   "execution_count": 2,
   "metadata": {},
   "outputs": [
    {
     "output_type": "stream",
     "name": "stdout",
     "text": [
      "Total fuel required for all of the modules on my spacecraft is 4994898.0 liters (taking the mass of the added fuel into account).\n"
     ]
    }
   ],
   "source": [
    "# Advent of Code - Day 1 Part 2\n",
    "\n",
    "with open('input1.dat', 'r') as massesFile:\n",
    "    massesStr = massesFile.read().splitlines()\n",
    "    massesFile.close()\n",
    "    fuel = 0.0\n",
    "    for massStr in massesStr:\n",
    "        fuelTemp = math.floor(float(massStr) / 3) - 2\n",
    "        while fuelTemp > 0:\n",
    "            fuel += fuelTemp\n",
    "            fuelTemp = math.floor(fuelTemp / 3) - 2\n",
    "    \n",
    "    print(f'Total fuel required for all of the modules on my spacecraft is {fuel} liters (taking the mass of the added fuel into account).')"
   ]
  },
  {
   "cell_type": "code",
   "execution_count": 3,
   "metadata": {},
   "outputs": [
    {
     "output_type": "stream",
     "name": "stdout",
     "text": [
      "Program halted at position: 168\nValue left at position 0 after the program halts is: 10566835\n"
     ]
    }
   ],
   "source": [
    "# Advent of Code - Day 2 Part 1\n",
    "\n",
    "def addition(position1, position2, position3, numbers):\n",
    "    numbers[position3] = numbers[position1] + numbers[position2]\n",
    "    return numbers\n",
    "\n",
    "def multiplication(position1, position2, position3, numbers):\n",
    "    numbers[position3] = numbers[position1] * numbers[position2]\n",
    "    return numbers\n",
    "\n",
    "optCodeInstruction = {\n",
    "    1 : addition,\n",
    "    2 : multiplication\n",
    "}\n",
    "\n",
    "with open('input2.dat', 'r') as program:\n",
    "    numbers = [int(number) for number in program.read().split(',')]\n",
    "    numbers[1] = 12\n",
    "    numbers[2] = 2\n",
    "    program.close()\n",
    "\n",
    "    optCodePosition = 0\n",
    "    while optCodePosition < len(numbers):\n",
    "        optCode = numbers[optCodePosition]\n",
    "        if optCode != 99:\n",
    "            position1 = numbers[optCodePosition + 1]\n",
    "            position2 = numbers[optCodePosition + 2]\n",
    "            position3 = numbers[optCodePosition + 3]\n",
    "            numbers = optCodeInstruction[optCode](position1, position2, position3, numbers)\n",
    "            optCodePosition += 4\n",
    "        else:\n",
    "            print(f'Program halted at position: {optCodePosition}')\n",
    "            break\n",
    "    \n",
    "    print(f'Value left at position 0 after the program halts is: {numbers[0]}')"
   ]
  },
  {
   "cell_type": "code",
   "execution_count": 4,
   "metadata": {},
   "outputs": [
    {
     "output_type": "stream",
     "name": "stdout",
     "text": [
      "The noun and verb that create an output of 19690720 are 23 and 47\n100 * noun + verb is: 2347\n"
     ]
    }
   ],
   "source": [
    "# Advent of Code - Day 2 Part 2\n",
    "\n",
    "targetValue = 19690720\n",
    "\n",
    "with open('input2.dat', 'r') as program:\n",
    "    numbersIntact = [int(number) for number in program.read().split(',')]\n",
    "    program.close()\n",
    "\n",
    "    done = False\n",
    "    for i in range(0,99):\n",
    "        for j in range(0,99):\n",
    "            numbers = numbersIntact.copy()\n",
    "            numbers[1] = i\n",
    "            numbers[2] = j\n",
    "            optCodePosition = 0\n",
    "            while optCodePosition < len(numbers):\n",
    "                optCode = numbers[optCodePosition]\n",
    "                if optCode != 99:\n",
    "                    position1 = numbers[optCodePosition + 1]\n",
    "                    position2 = numbers[optCodePosition + 2]\n",
    "                    position3 = numbers[optCodePosition + 3]\n",
    "                    numbers = optCodeInstruction[optCode](position1, position2, position3, numbers)\n",
    "                    optCodePosition += 4\n",
    "                else:\n",
    "                    break\n",
    "            if numbers[0] == targetValue:\n",
    "                print(f'The noun and verb that create an output of 19690720 are {i} and {j}')\n",
    "                done = True\n",
    "                break\n",
    "        else:\n",
    "            continue\n",
    "        break\n",
    "    \n",
    "    if done: \n",
    "        print(f'100 * noun + verb is: {100 * i + j}')\n",
    "    else:\n",
    "        print('Error - Cannot find the requested noun and verb!')    "
   ]
  },
  {
   "cell_type": "code",
   "execution_count": 41,
   "metadata": {
    "tags": []
   },
   "outputs": [
    {
     "output_type": "stream",
     "name": "stdout",
     "text": [
      "The shortest distance is 627\nThe fewest number of combined steps is 13190\n"
     ]
    }
   ],
   "source": [
    "# Advent of Code - Day 3 Part 1 and 2\n",
    "\n",
    "def moveUp(point):\n",
    "    point[1] += 1\n",
    "    return point\n",
    "\n",
    "def moveDown(point):\n",
    "    point[1] -= 1\n",
    "    return point\n",
    "\n",
    "def moveLeft(point):\n",
    "    point[0] -= 1\n",
    "    return point\n",
    "\n",
    "def moveRight(point):\n",
    "    point[0] += 1\n",
    "    return point\n",
    "\n",
    "move = {\n",
    "    'U' : moveUp,\n",
    "    'D' : moveDown,\n",
    "    'L' : moveLeft,\n",
    "    'R' : moveRight\n",
    "}\n",
    "\n",
    "with open('input3.dat', 'r') as coordinatesObj:\n",
    "    coordinatesWire1 = [coordinate1 for coordinate1 in coordinatesObj.readline().split(',')]\n",
    "    coordinatesWire2 = [coordinate2 for coordinate2 in coordinatesObj.readline().split(',')]\n",
    "\n",
    "visitedPoints1 = {}\n",
    "visitedPoints2 = {}\n",
    "intersections = {}\n",
    "\n",
    "origin = [0, 0]\n",
    "currentPoint = origin\n",
    "step = 1\n",
    "for coord in coordinatesWire1:\n",
    "    direction = coord[:1]\n",
    "    units = int(coord[1:])\n",
    "    for i in range(0, units):\n",
    "        visitedPoint = move[direction](currentPoint.copy())\n",
    "        currentPoint = visitedPoint.copy()\n",
    "        if (visitedPoint[0], visitedPoint[1]) not in visitedPoints1:\n",
    "            visitedPoints1[(visitedPoint[0], visitedPoint[1])] = step\n",
    "        step += 1\n",
    "        \n",
    "currentPoint = origin\n",
    "step = 1\n",
    "for coord in coordinatesWire2:\n",
    "    direction = coord[:1]\n",
    "    units = int(coord[1:])\n",
    "    for i in range(0, units):\n",
    "        visitedPoint = move[direction](currentPoint.copy())\n",
    "        currentPoint = visitedPoint.copy()\n",
    "        if (visitedPoint[0], visitedPoint[1]) not in visitedPoints2:\n",
    "            visitedPoints2[(visitedPoint[0], visitedPoint[1])] = step\n",
    "        step += 1\n",
    "\n",
    "distances = []\n",
    "steps = []\n",
    "intersections = set(visitedPoints1.keys()).intersection(set(visitedPoints2.keys()))\n",
    "for intersection in intersections:\n",
    "    distances.append(abs(intersection[0]) + abs(intersection[1]))\n",
    "    steps.append(visitedPoints1[intersection] + visitedPoints2[intersection])\n",
    "\n",
    "print('The shortest distance is', min(distances))\n",
    "print('The fewest number of combined steps is', min(steps))"
   ]
  },
  {
   "cell_type": "code",
   "execution_count": null,
   "metadata": {},
   "outputs": [],
   "source": []
  },
  {
   "cell_type": "code",
   "execution_count": 43,
   "metadata": {
    "tags": []
   },
   "outputs": [
    {
     "output_type": "stream",
     "name": "stdout",
     "text": [
      "579 numbers satisfy the rules in part 1!\n358 numbers satisfy the rules in part 2!\n"
     ]
    }
   ],
   "source": [
    "# Advent of Code - Day 4 Part 1\n",
    "\n",
    "from collections import defaultdict\n",
    "\n",
    "def rulesCheck(number):\n",
    "    numberStr = str(number)\n",
    "    repeats = defaultdict(int)\n",
    "    isIncreasing = True\n",
    "    for i in range(1, len(numberStr)):\n",
    "        if (numberStr[i]) == (numberStr[i-1]):\n",
    "            repeats[numberStr[i]] += 1 \n",
    "        if (numberStr[i]) < (numberStr[i-1]):\n",
    "            isIncreasing = False\n",
    "            break\n",
    "    \n",
    "    return isIncreasing, repeats\n",
    "\n",
    "lowerBound = 353096\n",
    "upperBound = 843212\n",
    "countPart1 = 0\n",
    "countPart2 = 0\n",
    "for number in range(lowerBound, upperBound):\n",
    "    isIncreasing, repeats = rulesCheck(number)\n",
    "    if isIncreasing and len(repeats) > 0:\n",
    "        countPart1 +=1\n",
    "\n",
    "    if isIncreasing and any(repeat == 1 for repeat in repeats.values()) :\n",
    "        countPart2 +=1\n",
    "\n",
    "print(countPart1, \"numbers satisfy the rules in part 1!\")\n",
    "print(countPart2, \"numbers satisfy the rules in part 2!\")\n"
   ]
  },
  {
   "cell_type": "code",
   "execution_count": 45,
   "metadata": {},
   "outputs": [
    {
     "output_type": "error",
     "ename": "FileNotFoundError",
     "evalue": "[Errno 2] No such file or directory: 'input5.dat'",
     "traceback": [
      "\u001b[1;31m---------------------------------------------------------------------------\u001b[0m",
      "\u001b[1;31mFileNotFoundError\u001b[0m                         Traceback (most recent call last)",
      "\u001b[1;32m<ipython-input-45-4ce892cc5a69>\u001b[0m in \u001b[0;36m<module>\u001b[1;34m\u001b[0m\n\u001b[0;32m     23\u001b[0m }\n\u001b[0;32m     24\u001b[0m \u001b[1;33m\u001b[0m\u001b[0m\n\u001b[1;32m---> 25\u001b[1;33m \u001b[1;32mwith\u001b[0m \u001b[0mopen\u001b[0m\u001b[1;33m(\u001b[0m\u001b[1;34m'input5.dat'\u001b[0m\u001b[1;33m,\u001b[0m \u001b[1;34m'r'\u001b[0m\u001b[1;33m)\u001b[0m \u001b[1;32mas\u001b[0m \u001b[0mprogram\u001b[0m\u001b[1;33m:\u001b[0m\u001b[1;33m\u001b[0m\u001b[1;33m\u001b[0m\u001b[0m\n\u001b[0m\u001b[0;32m     26\u001b[0m     \u001b[0mnumbersStr\u001b[0m \u001b[1;33m=\u001b[0m \u001b[1;33m[\u001b[0m\u001b[0mnumber\u001b[0m \u001b[1;32mfor\u001b[0m \u001b[0mnumber\u001b[0m \u001b[1;32min\u001b[0m \u001b[0mprogram\u001b[0m\u001b[1;33m.\u001b[0m\u001b[0mread\u001b[0m\u001b[1;33m(\u001b[0m\u001b[1;33m)\u001b[0m\u001b[1;33m.\u001b[0m\u001b[0msplit\u001b[0m\u001b[1;33m(\u001b[0m\u001b[1;34m','\u001b[0m\u001b[1;33m)\u001b[0m\u001b[1;33m]\u001b[0m\u001b[1;33m\u001b[0m\u001b[1;33m\u001b[0m\u001b[0m\n\u001b[0;32m     27\u001b[0m     \u001b[0mnumbers\u001b[0m \u001b[1;33m=\u001b[0m \u001b[0mlist\u001b[0m\u001b[1;33m(\u001b[0m\u001b[0mmap\u001b[0m\u001b[1;33m(\u001b[0m\u001b[0mint\u001b[0m\u001b[1;33m,\u001b[0m \u001b[0mnumbersStr\u001b[0m\u001b[1;33m)\u001b[0m\u001b[1;33m)\u001b[0m\u001b[1;33m\u001b[0m\u001b[1;33m\u001b[0m\u001b[0m\n",
      "\u001b[1;31mFileNotFoundError\u001b[0m: [Errno 2] No such file or directory: 'input5.dat'"
     ]
    }
   ],
   "source": [
    "# Advent of Code - Day 5 Part 1\n",
    "\n",
    "def addition(position1, position2, position3, numbers):\n",
    "    numbers[position3] = numbers[position1] + numbers[position2]\n",
    "    return numbers\n",
    "\n",
    "def multiplication(position1, position2, position3, numbers):\n",
    "    numbers[position3] = numbers[position1] * numbers[position2]\n",
    "    return numbers\n",
    "\n",
    "def setAtPosition(inputValue, position, numbers):\n",
    "    numbers[position] = inputValue\n",
    "    return numbers\n",
    "\n",
    "def outputAtPosition(inputValue, position, numbers):\n",
    "    return numbers[position]\n",
    "\n",
    "optCodeInstruction = {\n",
    "    1 : addition,\n",
    "    2 : multiplication,\n",
    "    3 : setAtPosition,\n",
    "    4 : outputAtPosition\n",
    "}\n",
    "\n",
    "with open('input5.dat', 'r') as program:\n",
    "    numbersStr = [number for number in program.read().split(',')]\n",
    "    numbers = list(map(int, numbersStr))\n",
    "    inputValue = 1\n",
    "    program.close()\n",
    "\n",
    "diagnosticCode = 0\n",
    "optCodePosition = 0\n",
    "while optCodePosition < len(numbers):\n",
    "    optCode = int(numbersStr[optCodePosition][-1])\n",
    "    if optCode != 99:\n",
    "        position1 = numbers[optCodePosition + 1]\n",
    "        position2 = numbers[optCodePosition + 2]\n",
    "        position3 = numbers[optCodePosition + 3]\n",
    "        numbers = optCodeInstruction[optCode](position1, position2, position3, numbers)\n",
    "        optCodePosition += 4\n",
    "    else:\n",
    "        print(f'Program halted at position: {optCodePosition}')\n",
    "        break\n",
    "\n",
    "print(f'Value left at position 0 after the program halts is: {numbers[0]}')"
   ]
  },
  {
   "cell_type": "code",
   "execution_count": null,
   "metadata": {},
   "outputs": [],
   "source": []
  }
 ]
}