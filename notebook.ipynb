{
 "metadata": {
  "language_info": {
   "codemirror_mode": {
    "name": "ipython",
    "version": 3
   },
   "file_extension": ".py",
   "mimetype": "text/x-python",
   "name": "python",
   "nbconvert_exporter": "python",
   "pygments_lexer": "ipython3",
   "version": "3.8.3-final"
  },
  "orig_nbformat": 2,
  "kernelspec": {
   "name": "Python 3.8.3 64-bit",
   "display_name": "Python 3.8.3 64-bit",
   "metadata": {
    "interpreter": {
     "hash": "bbca80127feb0f6a4bd0013dd6f89949424cc5c7b5573ad1a22aa295fdc13430"
    }
   }
  }
 },
 "nbformat": 4,
 "nbformat_minor": 2,
 "cells": [
  {
   "cell_type": "code",
   "execution_count": 1,
   "metadata": {},
   "outputs": [
    {
     "output_type": "stream",
     "name": "stdout",
     "text": [
      "Total fuel required for all of the modules on my spacecraft is 3331849.0 liters.\n"
     ]
    }
   ],
   "source": [
    "# Advent of Code - Day 1 Part 1\n",
    "import math\n",
    "\n",
    "with open('input1.dat', 'r') as massesFile:\n",
    "    massesStr = massesFile.read().splitlines()\n",
    "    massesFile.close()\n",
    "    \n",
    "fuel = 0.0\n",
    "for massStr in massesStr:\n",
    "    fuelTemp = math.floor(float(massStr) / 3) - 2\n",
    "    if fuelTemp > 0:\n",
    "        fuel += fuelTemp\n",
    "\n",
    "print(f'Total fuel required for all of the modules on my spacecraft is {fuel} liters.')"
   ]
  },
  {
   "cell_type": "code",
   "execution_count": 2,
   "metadata": {},
   "outputs": [
    {
     "output_type": "stream",
     "name": "stdout",
     "text": [
      "Total fuel required for all of the modules on my spacecraft is 4994898.0 liters (taking the mass of the added fuel into account).\n"
     ]
    }
   ],
   "source": [
    "# Advent of Code - Day 1 Part 2\n",
    "\n",
    "with open('input1.dat', 'r') as massesFile:\n",
    "    massesStr = massesFile.read().splitlines()\n",
    "    massesFile.close()\n",
    "    \n",
    "fuel = 0.0\n",
    "for massStr in massesStr:\n",
    "    fuelTemp = math.floor(float(massStr) / 3) - 2\n",
    "    while fuelTemp > 0:\n",
    "        fuel += fuelTemp\n",
    "        fuelTemp = math.floor(fuelTemp / 3) - 2\n",
    "\n",
    "print(f'Total fuel required for all of the modules on my spacecraft is {fuel} liters (taking the mass of the added fuel into account).')"
   ]
  },
  {
   "cell_type": "code",
   "execution_count": 3,
   "metadata": {},
   "outputs": [
    {
     "output_type": "stream",
     "name": "stdout",
     "text": [
      "Program halted at position: 168\nValue left at position 0 after the program halts is: 10566835\n"
     ]
    }
   ],
   "source": [
    "# Advent of Code - Day 2 Part 1\n",
    "\n",
    "def addition(position1, position2, position3, numbers):\n",
    "    numbers[position3] = numbers[position1] + numbers[position2]\n",
    "    return numbers\n",
    "\n",
    "def multiplication(position1, position2, position3, numbers):\n",
    "    numbers[position3] = numbers[position1] * numbers[position2]\n",
    "    return numbers\n",
    "\n",
    "opCodeInstruction = {\n",
    "    1 : addition,\n",
    "    2 : multiplication\n",
    "}\n",
    "\n",
    "with open('input2.dat', 'r') as program:\n",
    "    numbers = [int(number) for number in program.read().split(',')]\n",
    "    numbers[1] = 12\n",
    "    numbers[2] = 2\n",
    "    program.close()\n",
    "\n",
    "opCodePosition = 0\n",
    "while opCodePosition < len(numbers):\n",
    "    opCode = numbers[opCodePosition]\n",
    "    if opCode != 99:\n",
    "        position1 = numbers[opCodePosition + 1]\n",
    "        position2 = numbers[opCodePosition + 2]\n",
    "        position3 = numbers[opCodePosition + 3]\n",
    "        numbers = opCodeInstruction[opCode](position1, position2, position3, numbers)\n",
    "        opCodePosition += 4\n",
    "    else:\n",
    "        print(f'Program halted at position: {opCodePosition}')\n",
    "        break\n",
    "\n",
    "print(f'Value left at position 0 after the program halts is: {numbers[0]}')"
   ]
  },
  {
   "cell_type": "code",
   "execution_count": 4,
   "metadata": {},
   "outputs": [
    {
     "output_type": "stream",
     "name": "stdout",
     "text": [
      "The noun and verb that create an output of 19690720 are 23 and 47\n",
      "100 * noun + verb is: 2347\n"
     ]
    }
   ],
   "source": [
    "# Advent of Code - Day 2 Part 2\n",
    "\n",
    "targetValue = 19690720\n",
    "\n",
    "with open('input2.dat', 'r') as program:\n",
    "    numbersIntact = [int(number) for number in program.read().split(',')]\n",
    "    program.close()\n",
    "\n",
    "done = False\n",
    "for i in range(0,99):\n",
    "    for j in range(0,99):\n",
    "        numbers = numbersIntact.copy()\n",
    "        numbers[1] = i\n",
    "        numbers[2] = j\n",
    "        opCodePosition = 0\n",
    "        while opCodePosition < len(numbers):\n",
    "            opCode = numbers[opCodePosition]\n",
    "            if opCode != 99:\n",
    "                position1 = numbers[opCodePosition + 1]\n",
    "                position2 = numbers[opCodePosition + 2]\n",
    "                position3 = numbers[opCodePosition + 3]\n",
    "                numbers = opCodeInstruction[opCode](position1, position2, position3, numbers)\n",
    "                opCodePosition += 4\n",
    "            else:\n",
    "                break\n",
    "        if numbers[0] == targetValue:\n",
    "            print(f'The noun and verb that create an output of 19690720 are {i} and {j}')\n",
    "            done = True\n",
    "            break\n",
    "    else:\n",
    "        continue\n",
    "    break\n",
    "\n",
    "if done: \n",
    "    print(f'100 * noun + verb is: {100 * i + j}')\n",
    "else:\n",
    "    print('Error - Cannot find the requested noun and verb!')    "
   ]
  },
  {
   "cell_type": "code",
   "execution_count": 5,
   "metadata": {
    "tags": []
   },
   "outputs": [
    {
     "output_type": "stream",
     "name": "stdout",
     "text": [
      "The shortest distance is 627\nThe fewest number of combined steps is 13190\n"
     ]
    }
   ],
   "source": [
    "# Advent of Code - Day 3 Part 1 and 2\n",
    "\n",
    "def moveUp(point):\n",
    "    point[1] += 1\n",
    "    return point\n",
    "\n",
    "def moveDown(point):\n",
    "    point[1] -= 1\n",
    "    return point\n",
    "\n",
    "def moveLeft(point):\n",
    "    point[0] -= 1\n",
    "    return point\n",
    "\n",
    "def moveRight(point):\n",
    "    point[0] += 1\n",
    "    return point\n",
    "\n",
    "move = {\n",
    "    'U' : moveUp,\n",
    "    'D' : moveDown,\n",
    "    'L' : moveLeft,\n",
    "    'R' : moveRight\n",
    "}\n",
    "\n",
    "with open('input3.dat', 'r') as coordinatesObj:\n",
    "    coordinatesWire1 = [coordinate1 for coordinate1 in coordinatesObj.readline().split(',')]\n",
    "    coordinatesWire2 = [coordinate2 for coordinate2 in coordinatesObj.readline().split(',')]\n",
    "\n",
    "visitedPoints1 = {}\n",
    "visitedPoints2 = {}\n",
    "intersections = {}\n",
    "\n",
    "origin = [0, 0]\n",
    "currentPoint = origin\n",
    "step = 1\n",
    "for coord in coordinatesWire1:\n",
    "    direction = coord[:1]\n",
    "    units = int(coord[1:])\n",
    "    for i in range(0, units):\n",
    "        visitedPoint = move[direction](currentPoint.copy())\n",
    "        currentPoint = visitedPoint.copy()\n",
    "        if (visitedPoint[0], visitedPoint[1]) not in visitedPoints1:\n",
    "            visitedPoints1[(visitedPoint[0], visitedPoint[1])] = step\n",
    "        step += 1\n",
    "        \n",
    "currentPoint = origin\n",
    "step = 1\n",
    "for coord in coordinatesWire2:\n",
    "    direction = coord[:1]\n",
    "    units = int(coord[1:])\n",
    "    for i in range(0, units):\n",
    "        visitedPoint = move[direction](currentPoint.copy())\n",
    "        currentPoint = visitedPoint.copy()\n",
    "        if (visitedPoint[0], visitedPoint[1]) not in visitedPoints2:\n",
    "            visitedPoints2[(visitedPoint[0], visitedPoint[1])] = step\n",
    "        step += 1\n",
    "\n",
    "distances = []\n",
    "steps = []\n",
    "intersections = set(visitedPoints1.keys()).intersection(set(visitedPoints2.keys()))\n",
    "for intersection in intersections:\n",
    "    distances.append(abs(intersection[0]) + abs(intersection[1]))\n",
    "    steps.append(visitedPoints1[intersection] + visitedPoints2[intersection])\n",
    "\n",
    "print('The shortest distance is', min(distances))\n",
    "print('The fewest number of combined steps is', min(steps))"
   ]
  },
  {
   "cell_type": "code",
   "execution_count": 6,
   "metadata": {
    "tags": []
   },
   "outputs": [
    {
     "output_type": "stream",
     "name": "stdout",
     "text": [
      "579 numbers satisfy the rules in part 1!\n358 numbers satisfy the rules in part 2!\n"
     ]
    }
   ],
   "source": [
    "# Advent of Code - Day 4 Part 1 and 2\n",
    "\n",
    "from collections import defaultdict\n",
    "\n",
    "def rulesCheck(number):\n",
    "    numberStr = str(number)\n",
    "    repeats = defaultdict(int)\n",
    "    isIncreasing = True\n",
    "    for i in range(1, len(numberStr)):\n",
    "        if (numberStr[i]) == (numberStr[i-1]):\n",
    "            repeats[numberStr[i]] += 1 \n",
    "        if (numberStr[i]) < (numberStr[i-1]):\n",
    "            isIncreasing = False\n",
    "            break\n",
    "    \n",
    "    return isIncreasing, repeats\n",
    "\n",
    "lowerBound = 353096\n",
    "upperBound = 843212\n",
    "countPart1 = 0\n",
    "countPart2 = 0\n",
    "for number in range(lowerBound, upperBound):\n",
    "    isIncreasing, repeats = rulesCheck(number)\n",
    "    if isIncreasing and len(repeats) > 0:\n",
    "        countPart1 +=1\n",
    "\n",
    "    if isIncreasing and any(repeat == 1 for repeat in repeats.values()) :\n",
    "        countPart2 +=1\n",
    "\n",
    "print(countPart1, \"numbers satisfy the rules in part 1!\")\n",
    "print(countPart2, \"numbers satisfy the rules in part 2!\")\n"
   ]
  },
  {
   "cell_type": "code",
   "execution_count": 7,
   "metadata": {
    "tags": []
   },
   "outputs": [
    {
     "output_type": "stream",
     "name": "stdout",
     "text": [
      "Program halted at position: 676\nThe diagnostic code for system ID 5 is: 742621\n"
     ]
    }
   ],
   "source": [
    "# Advent of Code - Day 5 Part 1 and 2\n",
    "\n",
    "def addition(position1, position2, position3, numbers):\n",
    "    numbers[position3] = numbers[position1] + numbers[position2]\n",
    "    return numbers\n",
    "\n",
    "def multiplication(position1, position2, position3, numbers):\n",
    "    numbers[position3] = numbers[position1] * numbers[position2]\n",
    "    return numbers\n",
    "\n",
    "def setAtPosition(inputValue, position, numbers):\n",
    "    numbers[position] = inputValue\n",
    "    return numbers\n",
    "\n",
    "def outputAtPosition(inputValue, position, numbers):\n",
    "    return numbers[position]\n",
    "\n",
    "def getParameterPosition(opCodePosition, modePar, parameterNumber, numbers):\n",
    "    return numbers[opCodePosition + parameterNumber] if modePar == 0 else opCodePosition + parameterNumber\n",
    "\n",
    "with open('input5.dat', 'r') as program:\n",
    "    numbers = [int(number) for number in program.read().split(',')]\n",
    "    inputValue = 5 # part 1: 1, part 2: 5\n",
    "    program.close()\n",
    "\n",
    "outputs = []\n",
    "diagnosticCode = 0\n",
    "opCodePosition = 0\n",
    "while opCodePosition < len(numbers):\n",
    "    instructionCode = str(numbers[opCodePosition])\n",
    "    nInstructionDigits = len(instructionCode)\n",
    "    if nInstructionDigits < 3:\n",
    "        opCode = int(instructionCode[-2:])\n",
    "        modePar1 = 0\n",
    "        modePar2 = 0\n",
    "        modePar3 = 0\n",
    "    elif nInstructionDigits < 4:\n",
    "        opCode = int(instructionCode[-2:])\n",
    "        modePar1 = int(instructionCode[0])\n",
    "        modePar2 = 0\n",
    "        modePar3 = 0\n",
    "    elif nInstructionDigits < 5:\n",
    "        opCode = int(instructionCode[-2:])\n",
    "        modePar1 = int(instructionCode[1])\n",
    "        modePar2 = int(instructionCode[0])\n",
    "        modePar3 = 0\n",
    "    elif nInstructionDigits < 6:\n",
    "        opCode = int(instructionCode[-2:])\n",
    "        modePar1 = int(instructionCode[2])\n",
    "        modePar2 = int(instructionCode[1])\n",
    "        modePar3 = int(instructionCode[0])\n",
    "    \n",
    "    if opCode != 99:\n",
    "        if opCode == 1:\n",
    "            position1 = getParameterPosition(opCodePosition, modePar1, 1, numbers)\n",
    "            position2 = getParameterPosition(opCodePosition, modePar2, 2, numbers)\n",
    "            position3 = getParameterPosition(opCodePosition, modePar3, 3, numbers)\n",
    "            numbers = addition(position1, position2, position3, numbers)\n",
    "            opCodePosition += 4\n",
    "        elif opCode == 2:\n",
    "            position1 = getParameterPosition(opCodePosition, modePar1, 1, numbers)\n",
    "            position2 = getParameterPosition(opCodePosition, modePar2, 2, numbers)\n",
    "            position3 = getParameterPosition(opCodePosition, modePar3, 3, numbers)\n",
    "            numbers = multiplication(position1, position2, position3, numbers)\n",
    "            opCodePosition += 4\n",
    "        elif opCode == 3:\n",
    "            # inputValue = int(input(\"Please enter the ID for the ship's air conditioner unit: \"))\n",
    "            position = numbers[opCodePosition + 1]\n",
    "            numbers = setAtPosition(inputValue, position, numbers)\n",
    "            opCodePosition += 2\n",
    "        elif opCode == 4:\n",
    "            position = numbers[opCodePosition + 1]\n",
    "            output = outputAtPosition(inputValue, position, numbers)\n",
    "            outputs.append(output)\n",
    "            opCodePosition += 2\n",
    "        elif opCode == 5:\n",
    "            position1 = getParameterPosition(opCodePosition, modePar1, 1, numbers)\n",
    "            position2 = getParameterPosition(opCodePosition, modePar2, 2, numbers)\n",
    "            if numbers[position1] > 0:\n",
    "                opCodePosition = numbers[position2]\n",
    "            else:\n",
    "                opCodePosition += 3\n",
    "        elif opCode == 6:\n",
    "            position1 = getParameterPosition(opCodePosition, modePar1, 1, numbers)\n",
    "            position2 = getParameterPosition(opCodePosition, modePar2, 2, numbers)\n",
    "            if numbers[position1] == 0:\n",
    "                opCodePosition = numbers[position2]\n",
    "            else:\n",
    "                opCodePosition += 3\n",
    "        elif opCode == 7:\n",
    "            position1 = getParameterPosition(opCodePosition, modePar1, 1, numbers)\n",
    "            position2 = getParameterPosition(opCodePosition, modePar2, 2, numbers)\n",
    "            position3 = getParameterPosition(opCodePosition, modePar3, 3, numbers)\n",
    "            if numbers[position1] < numbers[position2]:\n",
    "                numbers[position3] = 1\n",
    "            else:\n",
    "                numbers[position3] = 0\n",
    "            \n",
    "            opCodePosition += 4\n",
    "        elif opCode == 8:\n",
    "            position1 = getParameterPosition(opCodePosition, modePar1, 1, numbers)\n",
    "            position2 = getParameterPosition(opCodePosition, modePar2, 2, numbers)\n",
    "            position3 = getParameterPosition(opCodePosition, modePar3, 3, numbers)\n",
    "            if numbers[position1] == numbers[position2]:\n",
    "                numbers[position3] = 1\n",
    "            else:\n",
    "                numbers[position3] = 0\n",
    "            \n",
    "            opCodePosition += 4\n",
    "        else:\n",
    "            print('Error - Wrong opCode at position:', opCodePosition, numbers[opCodePosition])\n",
    "            break\n",
    "\n",
    "    else:\n",
    "        print(f'Program halted at position: {opCodePosition}')\n",
    "        break\n",
    "\n",
    "print(f'The diagnostic code for system ID {inputValue} is: {outputs[-1]}')"
   ]
  },
  {
   "cell_type": "code",
   "execution_count": 8,
   "metadata": {
    "tags": []
   },
   "outputs": [
    {
     "output_type": "stream",
     "name": "stdout",
     "text": [
      "Total number of direct and indirect orbits are: 402879\nTotal orbital transfers required for tranfering from YOU to SANTA is 484\n"
     ]
    }
   ],
   "source": [
    "# Advent of Code - Day 6 Part 1 and 2\n",
    "\n",
    "from collections import defaultdict\n",
    "    \n",
    "def splitIntoPair(orbit):\n",
    "    return orbit.split(')')\n",
    "\n",
    "orbits = defaultdict(str)\n",
    "with open('input6.dat', 'r') as orbitsFile:\n",
    "    for orbit in orbitsFile.read().splitlines():\n",
    "        orbitPair = splitIntoPair(orbit) \n",
    "        orbits[orbitPair[1]] = orbitPair[0]\n",
    "    orbitsFile.close()\n",
    "\n",
    "# Part 1\n",
    "nOrbits = 0\n",
    "for k, v in orbits.items():\n",
    "    orbitExists = True\n",
    "    nOrbits += 1\n",
    "    orbiter = v\n",
    "    while orbitExists:\n",
    "        if orbiter in orbits:\n",
    "            nOrbits += 1\n",
    "            orbiter = orbits[orbiter]\n",
    "        else:\n",
    "            orbitExists = False\n",
    "\n",
    "print('Total number of direct and indirect orbits are:', nOrbits)\n",
    "\n",
    "# Part 2\n",
    "orbitals = defaultdict(list)\n",
    "targetOrbiters = ['YOU', 'SAN']\n",
    "for targetOrbiter in targetOrbiters:\n",
    "    orbitExists = True\n",
    "    orbiter = orbits[targetOrbiter]\n",
    "    while orbitExists:\n",
    "        if orbiter in orbits:\n",
    "            orbitals[targetOrbiter].append(orbiter)\n",
    "            orbiter = orbits[orbiter]\n",
    "        else:\n",
    "            orbitExists = False\n",
    "\n",
    "youToOrigin = set(orbitals[targetOrbiters[0]]).difference(set(orbitals[targetOrbiters[1]]))\n",
    "sanToOrigin = set(orbitals[targetOrbiters[1]]).difference(set(orbitals[targetOrbiters[0]]))\n",
    "print('Total orbital transfers required for tranfering from YOU to SANTA is', len(youToOrigin) + len(sanToOrigin))"
   ]
  },
  {
   "cell_type": "code",
   "execution_count": null,
   "metadata": {},
   "outputs": [],
   "source": []
  }
 ]
}